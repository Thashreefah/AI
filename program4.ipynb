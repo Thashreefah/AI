{
 "cells": [
  {
   "cell_type": "code",
   "execution_count": 3,
   "id": "2ebe5995",
   "metadata": {},
   "outputs": [
    {
     "name": "stdout",
     "output_type": "stream",
     "text": [
      "80\n"
     ]
    }
   ],
   "source": [
    "from sys import maxsize\n",
    "from itertools import permutations\n",
    "V=4\n",
    "                 \n",
    "def travellingSalesmanProblem(graph,s):\n",
    "#Store all vertex apart from source vertex\n",
    "    vertex=[]\n",
    "    for i in range(V):\n",
    "        if i!=s:\n",
    "           vertex.append(i)\n",
    "    #Store minimum weight Hamiltonian Cycle\n",
    "    min_path=maxsize\n",
    "    next_permutation=permutations(vertex)\n",
    "    for i in next_permutation:\n",
    "        #Store current Path weight(cost)\n",
    "        current_pathweight=0\n",
    "        #Compute current path weight\n",
    "        k=s\n",
    "        for j in i:\n",
    "            current_pathweight+=graph[k][j]\n",
    "            k=j\n",
    "        current_pathweight+=graph[k][s]\n",
    "        #Update minimum\n",
    "        min_path=min(min_path,current_pathweight)\n",
    "    return min_path\n",
    "\n",
    "                  \n",
    "#Driver Code\n",
    "if __name__==\"__main__\":\n",
    "   #Matrix representation of graph\n",
    "   graph=[[0,10,15,20],\n",
    "         [10,0,35,25],\n",
    "         [15,35,0,30],\n",
    "         [20,25,30,0]]\n",
    "   s=0\n",
    "   print(travellingSalesmanProblem(graph,s))"
   ]
  },
  {
   "cell_type": "code",
   "execution_count": null,
   "id": "dae60d68",
   "metadata": {},
   "outputs": [],
   "source": [
    "print(\"Water Jug Problem\",x=int(input(\"Enter X:\"))\n",
    "y=int(input(\"Enter Y:\")    \n",
    "\n",
    "while True:\n",
    "  rno = int(input(\"Enter the rule no\"))\n",
    "  if(rno==1):\n",
    "      if x<4:\n",
    "        x=4\n",
    "  if(rno==2):\n",
    "      if y<3:\n",
    "        y=3     \n",
    "  \n",
    "  if(rno==5):\n",
    "      if x>0:\n",
    "        x=0\n",
    "  if(rno==6):\n",
    "      if y>0:\n",
    "        y=0           \n",
    "      \n",
    "      \n",
    "   if rno==7:\n",
    "      if x+y>=4 and y>0:\n",
    "         x,y=4,y-(4-x)\n",
    "      if rno==8:\n",
    "      if x+y>=3 and x>0:"
   ]
  }
 ],
 "metadata": {
  "kernelspec": {
   "display_name": "Python 3 (ipykernel)",
   "language": "python",
   "name": "python3"
  },
  "language_info": {
   "codemirror_mode": {
    "name": "ipython",
    "version": 3
   },
   "file_extension": ".py",
   "mimetype": "text/x-python",
   "name": "python",
   "nbconvert_exporter": "python",
   "pygments_lexer": "ipython3",
   "version": "3.9.7"
  }
 },
 "nbformat": 4,
 "nbformat_minor": 5
}
