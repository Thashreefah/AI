{
 "cells": [
  {
   "cell_type": "code",
   "execution_count": 1,
   "id": "02516e6a",
   "metadata": {},
   "outputs": [
    {
     "name": "stdout",
     "output_type": "stream",
     "text": [
      "Following is the Breadth-First Search\n",
      "Node visited at each timestep: ['1', '2']\n",
      "Node visited at each timestep: ['1', '2', '10']\n",
      "Node visited at each timestep: ['1', '2', '10', '3']\n",
      "Node visited at each timestep: ['1', '2', '10', '3', '8']\n",
      "Node visited at each timestep: ['1', '2', '10', '3', '8', '4']\n",
      "Node visited at each timestep: ['1', '2', '10', '3', '8', '4', '9']\n",
      "Node visited at each timestep: ['1', '2', '10', '3', '8', '4', '9', '5']\n",
      "Node visited at each timestep: ['1', '2', '10', '3', '8', '4', '9', '5', '6']\n",
      "Node visited at each timestep: ['1', '2', '10', '3', '8', '4', '9', '5', '6', '7']\n"
     ]
    }
   ],
   "source": [
    "#1. Write a Program to Implement Breadth First Search using Python\n",
    "graph = {\n",
    " '1' : ['2','10'],\n",
    " '2' : ['3','8'],\n",
    " '3' : ['4'],\n",
    " '4' : ['5','6','7'],\n",
    " '5' : [],\n",
    " '6' : [],\n",
    " '7' : [],\n",
    " '8' : ['9'],\n",
    " '9' : [],\n",
    " '10' : []\n",
    " }\n",
    "visited = []\n",
    "queue = []\n",
    "\n",
    "def bfs(visited, graph, node):\n",
    "    visited.append(node)\n",
    "    queue.append(node)\n",
    "    while queue:\n",
    "        m = queue.pop(0)\n",
    "        #print (m, end = \" \")\n",
    "        for neighbour in graph[m]:\n",
    "            if neighbour not in visited:\n",
    "                visited.append(neighbour)\n",
    "                queue.append(neighbour)\n",
    "                print(\"Node visited at each timestep:\",visited)\n",
    "                \n",
    "print(\"Following is the Breadth-First Search\")\n",
    "bfs(visited, graph, '1')"
   ]
  },
  {
   "cell_type": "code",
   "execution_count": 6,
   "id": "e271728e",
   "metadata": {},
   "outputs": [
    {
     "name": "stdout",
     "output_type": "stream",
     "text": [
      "Following is the Depth-First Search\n",
      "5\n",
      "Graph of node: ['3', '7']\n",
      "3\n",
      "Graph of node: ['2', '4']\n",
      "2\n",
      "Graph of node: ['1']\n",
      "1\n",
      "Graph of node: []\n",
      "4\n",
      "Graph of node: ['8']\n",
      "8\n",
      "Graph of node: []\n",
      "7\n",
      "Graph of node: ['6']\n",
      "6\n",
      "Graph of node: []\n"
     ]
    }
   ],
   "source": [
    "#2. Write a Program to Implement Depth First Search using Python.\n",
    "# Using a Python dictionary to act as an adjacency list\n",
    "graph = {\n",
    " '5' : ['3','7'],\n",
    " '3' : ['2', '4'],\n",
    " '7' : ['6'],\n",
    " '6': [],\n",
    " '2' : ['1'],\n",
    " '1':[],\n",
    " '4' : ['8'],\n",
    " '8' : []\n",
    "}\n",
    "visited = set() # Set to keep track of visited nodes of graph.\n",
    "\n",
    "\n",
    "def dfs(visited, graph, node): #function for dfs\n",
    "    if node not in visited:\n",
    "        print (node)\n",
    "        visited.add(node)\n",
    "        print(\"Graph of node:\",graph[node])\n",
    "        for neighbour in graph[node]:\n",
    "            dfs(visited, graph, neighbour)\n",
    "            \n",
    "# Driver Code\n",
    "print(\"Following is the Depth-First Search\")\n",
    "dfs(visited, graph, '5')"
   ]
  },
  {
   "cell_type": "code",
   "execution_count": null,
   "id": "bbad3266",
   "metadata": {},
   "outputs": [],
   "source": []
  }
 ],
 "metadata": {
  "kernelspec": {
   "display_name": "Python 3 (ipykernel)",
   "language": "python",
   "name": "python3"
  },
  "language_info": {
   "codemirror_mode": {
    "name": "ipython",
    "version": 3
   },
   "file_extension": ".py",
   "mimetype": "text/x-python",
   "name": "python",
   "nbconvert_exporter": "python",
   "pygments_lexer": "ipython3",
   "version": "3.9.7"
  }
 },
 "nbformat": 4,
 "nbformat_minor": 5
}
