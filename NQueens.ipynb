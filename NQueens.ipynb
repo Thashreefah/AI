{
 "cells": [
  {
   "cell_type": "code",
   "execution_count": 1,
   "id": "4fe2e019",
   "metadata": {},
   "outputs": [
    {
     "name": "stdout",
     "output_type": "stream",
     "text": [
      "0 0 1 0 \n",
      "1 0 0 0 \n",
      "0 0 0 1 \n",
      "0 1 0 0 \n"
     ]
    },
    {
     "data": {
      "text/plain": [
       "True"
      ]
     },
     "execution_count": 1,
     "metadata": {},
     "output_type": "execute_result"
    }
   ],
   "source": [
    "global N\n",
    "N = 4\n",
    "def printSolution(board):\n",
    "    for i in range(N):\n",
    "        for j in range(N):\n",
    "            print (board[i][j], end = \" \")\n",
    "        print()\n",
    "        \n",
    "def isSafe(board, row, col):\n",
    "    for i in range(col):\n",
    "        if board[row][i] == 1:\n",
    "            return False\n",
    "    for i, j in zip(range(row, -1, -1),\n",
    "        range(col, -1, -1)):\n",
    "        if board[i][j] == 1:\n",
    "            return False\n",
    "    for i, j in zip(range(row, N, 1),\n",
    "        range(col, -1, -1)):\n",
    "        if board[i][j] == 1:\n",
    "            return False\n",
    "    return True\n",
    "\n",
    "def solveNQUtil(board, col):\n",
    "    if col >= N:\n",
    "        return True\n",
    "    for i in range(N):\n",
    "        if isSafe(board, i, col):\n",
    "            board[i][col] = 1 \n",
    "            if solveNQUtil(board, col + 1) == True:\n",
    "                return True\n",
    "            board[i][col] = 0\n",
    "    return False\n",
    "    \n",
    "def solveNQ():\n",
    "    board = [ [0, 0, 0, 0],\n",
    "              [0, 0, 0, 0],\n",
    "              [0, 0, 0, 0],\n",
    "              [0, 0, 0, 0] ]\n",
    "    if solveNQUtil(board, 0) == False:\n",
    "        print (\"Solution does not exist\")\n",
    "        return False\n",
    "    printSolution(board)\n",
    "    return True\n",
    "\n",
    "solveNQ()\n"
   ]
  },
  {
   "cell_type": "code",
   "execution_count": 8,
   "id": "47c17ba5",
   "metadata": {},
   "outputs": [
    {
     "ename": "NameError",
     "evalue": "name 'main' is not defined",
     "output_type": "error",
     "traceback": [
      "\u001b[1;31m---------------------------------------------------------------------------\u001b[0m",
      "\u001b[1;31mNameError\u001b[0m                                 Traceback (most recent call last)",
      "\u001b[1;32m~\\AppData\\Local\\Temp/ipykernel_10224/3527689455.py\u001b[0m in \u001b[0;36m<module>\u001b[1;34m\u001b[0m\n\u001b[0;32m     73\u001b[0m \u001b[1;33m\u001b[0m\u001b[0m\n\u001b[0;32m     74\u001b[0m \u001b[1;32mif\u001b[0m \u001b[0m__name__\u001b[0m \u001b[1;33m==\u001b[0m \u001b[1;34m'__main__'\u001b[0m\u001b[1;33m:\u001b[0m\u001b[1;33m\u001b[0m\u001b[1;33m\u001b[0m\u001b[0m\n\u001b[1;32m---> 75\u001b[1;33m     \u001b[0mmain\u001b[0m\u001b[1;33m(\u001b[0m\u001b[1;33m)\u001b[0m\u001b[1;33m\u001b[0m\u001b[1;33m\u001b[0m\u001b[0m\n\u001b[0m",
      "\u001b[1;31mNameError\u001b[0m: name 'main' is not defined"
     ]
    }
   ],
   "source": [
    "class Node():\n",
    "    def __init__(self, parent=None, position=None):\n",
    "        self.parent = parent\n",
    "        self.position = position\n",
    "        self.g = 0\n",
    "        self.h = 0\n",
    "        self.f = 0\n",
    "        \n",
    "        def __eq__(self, other):\n",
    "             return self.position == other.position\n",
    "            \n",
    "    def astar(maze, start, end):\n",
    "        start_node = Node(None, start)\n",
    "        start_node.g = start_node.h = start_node.f = 0\n",
    "        end_node = Node(None, end)\n",
    "        end_node.g = end_node.h = end_node.f = 0\n",
    "        open_list = []\n",
    "        closed_list = []\n",
    "        open_list.append(start_node)\n",
    "        while len(open_list) > 0:\n",
    "            current_node = open_list[0]\n",
    "            current_index = 0\n",
    "            for index, item in enumerate(open_list):\n",
    "                if item.f < current_node.f:\n",
    "                    current_node = item\n",
    "                    current_index = index\n",
    "                open_list.pop(current_index)\n",
    "                closed_list.append(current_node)\n",
    "                if current_node == end_node:\n",
    "                    path = []\n",
    "                    current = current_node\n",
    "                    while current is not None:\n",
    "                        path.append(current.position)\n",
    "                        current = current.parent\n",
    "                    return path[::-1] # Return reversed path\n",
    "                children = []\n",
    "                for new_position in [(0, -1), (0, 1), (-1, 0), (1, 0), (-1, -1), (-1, 1), (1, -1), (1, 1)]: # Adjacent squares\n",
    "                    node_position = (current_node.position[0] + new_position[0], current_node.position[1] + new_position[1])\n",
    "                    if node_position[0] > (len(maze) - 1) or node_position[0] < 0 or node_position[1] > (len(maze[len(maze)-1]) -1) or node_position[1] < 0:\n",
    "                        continue\n",
    "                    if maze[node_position[0]][node_position[1]] != 0:\n",
    "                        continue\n",
    "                    new_node = Node(current_node, node_position)\n",
    "                    children.append(new_node)\n",
    "                for child in children:\n",
    "                    for closed_child in closed_list:\n",
    "                        if child == closed_child:\n",
    "                            continue\n",
    "                    child.g = current_node.g + 1\n",
    "                    child.h = ((child.position[0] - end_node.position[0]) ** 2) + ((child.position[1] - end_node.position[1]) ** 2)\n",
    "                    child.f = child.g + child.h\n",
    "                    for open_node in open_list:\n",
    "                        if child == open_node and child.g > open_node.g:\n",
    "                            continue\n",
    "                    open_list.append(child)\n",
    "\n",
    "\n",
    "    def main():\n",
    "        maze = [[0, 0, 0, 0, 1, 0, 0, 0, 0, 0],\n",
    "                [0, 0, 0, 0, 1, 0, 0, 0, 0, 0],\n",
    "                [0, 0, 0, 0, 1, 0, 0, 0, 0, 0],\n",
    "                [0, 0, 0, 0, 1, 0, 0, 0, 0, 0],\n",
    "                [0, 0, 0, 0, 1, 0, 0, 0, 0, 0],\n",
    "                [0, 0, 0, 0, 0, 0, 0, 0, 0, 0],\n",
    "                [0, 0, 0, 0, 1, 0, 0, 0, 0, 0],\n",
    "                [0, 0, 0, 0, 1, 0, 0, 0, 0, 0],\n",
    "                [0, 0, 0, 0, 1, 0, 0, 0, 0, 0],\n",
    "                [0, 0, 0, 0, 0, 0, 0, 0, 0, 0]]\n",
    "        start = (0, 0)\n",
    "        end = (7, 6)\n",
    "        path = astar(maze, start, end)\n",
    "        print(path)\n",
    "\n",
    "if __name__ == '__main__':\n",
    "    main()"
   ]
  },
  {
   "cell_type": "code",
   "execution_count": null,
   "id": "aad829b3",
   "metadata": {},
   "outputs": [],
   "source": []
  }
 ],
 "metadata": {
  "kernelspec": {
   "display_name": "Python 3 (ipykernel)",
   "language": "python",
   "name": "python3"
  },
  "language_info": {
   "codemirror_mode": {
    "name": "ipython",
    "version": 3
   },
   "file_extension": ".py",
   "mimetype": "text/x-python",
   "name": "python",
   "nbconvert_exporter": "python",
   "pygments_lexer": "ipython3",
   "version": "3.9.7"
  }
 },
 "nbformat": 4,
 "nbformat_minor": 5
}
